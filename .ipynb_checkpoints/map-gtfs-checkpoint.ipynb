{
 "cells": [
  {
   "cell_type": "markdown",
   "id": "fd7f55aa-a570-4e5d-8c02-1a7c32b2e427",
   "metadata": {},
   "source": [
    "# Map Madaraka Express GTFS Data"
   ]
  },
  {
   "cell_type": "code",
   "execution_count": 1,
   "id": "604d5703-64cd-42aa-8637-e44d203329ac",
   "metadata": {},
   "outputs": [],
   "source": [
    "import pandas as pd\n",
    "import geopandas as gpd\n",
    "from shapely.geometry import LineString\n",
    "import folium\n",
    "from folium.features import CustomIcon\n",
    "\n",
    "# Load GTFS data\n",
    "agency = pd.read_csv('Madaraka_Express_GTFS/agency.txt')\n",
    "calendar = pd.read_csv('Madaraka_Express_GTFS/calendar.txt')\n",
    "routes = pd.read_csv('Madaraka_Express_GTFS/routes.txt')\n",
    "shapes = pd.read_csv('Madaraka_Express_GTFS/shapes.txt')\n",
    "stop_times = pd.read_csv('Madaraka_Express_GTFS/stop_times.txt')\n",
    "stops = pd.read_csv('Madaraka_Express_GTFS/stops.txt')\n",
    "trips = pd.read_csv('Madaraka_Express_GTFS/trips.txt')\n",
    "\n",
    "# Create a dictionary to store the shape points\n",
    "shape_dict = {}\n",
    "\n",
    "for index, row in shapes.iterrows():\n",
    "    shape_id = row['shape_id']\n",
    "    lat, lon = row['shape_pt_lat'], row['shape_pt_lon']\n",
    "    if shape_id not in shape_dict:\n",
    "        shape_dict[shape_id] = []\n",
    "    shape_dict[shape_id].append((lon, lat))\n",
    "\n",
    "# Create a list of LineStrings\n",
    "shapes_list = []\n",
    "for shape_id, points in shape_dict.items():\n",
    "    shapes_list.append({'shape_id': shape_id, 'geometry': LineString(points)})\n",
    "\n",
    "# Create a Geopandas DataFrame\n",
    "gdf_shapes = gpd.GeoDataFrame(shapes_list)\n",
    "\n",
    "# Create a base map\n",
    "m = folium.Map(location=[-1.286389, 36.817223], zoom_start=7)  # Centered around Nairobi, Kenya\n",
    "\n",
    "# Add shapes to the map\n",
    "for _, row in gdf_shapes.iterrows():\n",
    "    folium.PolyLine(locations=[(point[1], point[0]) for point in row['geometry'].coords], color='blue', weight=2.5).add_to(m)\n",
    "\n",
    "# Add stops to the map with custom icons and popups\n",
    "for _, row in stops.iterrows():\n",
    "    popup_html = f'<div style=\"width: 200px;\">{row[\"stop_name\"]}</div>'\n",
    "    popup = folium.Popup(popup_html, max_width=250)\n",
    "    icon = folium.Icon(icon='train', prefix='fa', color='red')  # Font Awesome train icon\n",
    "    folium.Marker(\n",
    "        location=[row['stop_lat'], row['stop_lon']],\n",
    "        popup=popup,\n",
    "        icon=icon\n",
    "    ).add_to(m)\n",
    "\n",
    "# Save the map to an HTML file\n",
    "m.save('madaraka_express_map.html')"
   ]
  },
  {
   "cell_type": "code",
   "execution_count": null,
   "id": "bdd123db-f013-410e-a59c-9d5f8d5cebfa",
   "metadata": {},
   "outputs": [],
   "source": []
  }
 ],
 "metadata": {
  "kernelspec": {
   "display_name": "Python 3 (ipykernel)",
   "language": "python",
   "name": "python3"
  },
  "language_info": {
   "codemirror_mode": {
    "name": "ipython",
    "version": 3
   },
   "file_extension": ".py",
   "mimetype": "text/x-python",
   "name": "python",
   "nbconvert_exporter": "python",
   "pygments_lexer": "ipython3",
   "version": "3.11.6"
  }
 },
 "nbformat": 4,
 "nbformat_minor": 5
}
